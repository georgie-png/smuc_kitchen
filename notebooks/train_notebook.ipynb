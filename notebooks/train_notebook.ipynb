{
 "cells": [
  {
   "cell_type": "code",
   "execution_count": null,
   "id": "initial_id",
   "metadata": {
    "ExecuteTime": {
     "end_time": "2024-03-07T12:21:13.971926Z",
     "start_time": "2024-03-07T12:21:11.980099Z"
    }
   },
   "outputs": [],
   "source": [
    "import numpy as np\n",
    "import torch\n",
    "import torch.nn as nn\n",
    "from torch.nn import Module\n",
    "import torch.optim as optimizers\n",
    "from torch.utils.data import DataLoader, Dataset\n",
    "import torch.nn.functional as F\n",
    "import torchvision.transforms as transforms\n",
    "import torchvision.datasets as datasets\n",
    "\n",
    "import matplotlib.pyplot as plt\n",
    "from tqdm import tqdm\n",
    "\n",
    "from models import SimpleMLP\n",
    "from data_loaders import KitchenDataset"
   ]
  },
  {
   "cell_type": "code",
   "execution_count": null,
   "id": "526f8a9aa2057eff",
   "metadata": {
    "ExecuteTime": {
     "end_time": "2024-03-07T12:21:13.979924Z",
     "start_time": "2024-03-07T12:21:13.973978Z"
    }
   },
   "outputs": [],
   "source": [
    "SEED = 42\n",
    "torch.manual_seed(SEED)\n",
    "np.random.seed(SEED)\n",
    "data_path = '../data/DEF-01.json'\n",
    "\n",
    "# setup device\n",
    "device = torch.device('cuda' if torch.cuda.is_available() else 'cpu')\n",
    "\n",
    "# HYPERPARAMETERS\n",
    "HIDDEN_LAYERS = 1\n",
    "HIDDEN_FEATURES = 64\n",
    "\n",
    "BATCH_SIZE = 512\n",
    "NUM_EPOCHS = 300\n",
    "LR = 0.0008"
   ]
  },
  {
   "cell_type": "code",
   "execution_count": null,
   "id": "d55c0ae3cee50b83",
   "metadata": {
    "ExecuteTime": {
     "end_time": "2024-03-07T12:21:14.382691Z",
     "start_time": "2024-03-07T12:21:13.979246Z"
    }
   },
   "outputs": [],
   "source": [
    "# get full dataset\n",
    "kitchen_dataset = KitchenDataset(data_path)\n",
    "#train_data = KitchenDataset(data_path, train=True, num_examples=1024)\n",
    "#test_data = KitchenDataset(data_path, train=False, num_examples=4000)\n",
    "#num_kitchens = train_data.num_kitchens\n",
    "#num_items = train_data.num_items\n",
    "\n",
    "# split data into training and test data\n",
    "num_kitchens = kitchen_dataset.num_kitchens\n",
    "num_items = kitchen_dataset.num_items\n",
    "num_training_examples = int(0.8 * len(kitchen_dataset))\n",
    "num_test_examples = len(kitchen_dataset) - num_training_examples\n",
    "\n",
    "train_data, test_data = torch.utils.data.random_split(kitchen_dataset, [num_training_examples, num_test_examples])\n",
    "\n",
    "# setup data loaders\n",
    "train_loader = DataLoader(train_data, batch_size=BATCH_SIZE, shuffle=True)\n",
    "test_loader = DataLoader(test_data, batch_size=BATCH_SIZE, shuffle=False)"
   ]
  },
  {
   "cell_type": "code",
   "execution_count": null,
   "id": "61b1c4610a8185ec",
   "metadata": {
    "ExecuteTime": {
     "end_time": "2024-03-07T12:21:14.389394Z",
     "start_time": "2024-03-07T12:21:14.384411Z"
    }
   },
   "outputs": [],
   "source": [
    "# initialize model and optimizer\n",
    "model = SimpleMLP(num_kitchens=num_kitchens,\n",
    "                  num_items=num_items,\n",
    "                  hidden_layers=HIDDEN_LAYERS, \n",
    "                  hidden_features=HIDDEN_FEATURES,\n",
    "                  data_means=kitchen_dataset.get_food_means()).to(device)\n",
    "optim = optimizers.Adam(model.parameters(), lr=LR)\n",
    "criterion = F.cross_entropy"
   ]
  },
  {
   "cell_type": "code",
   "execution_count": null,
   "id": "bf3b45733fa15e2f",
   "metadata": {
    "ExecuteTime": {
     "end_time": "2024-03-07T12:21:28.003524Z",
     "start_time": "2024-03-07T12:21:14.393837Z"
    }
   },
   "outputs": [],
   "source": [
    "# TRAIN CLASSIFIER\n",
    "print('=' * 32)\n",
    "print(f'Start training')\n",
    "print(f'Device: {device}')\n",
    "print(f'Number of epochs: {NUM_EPOCHS}')\n",
    "print('=' * 32)\n",
    "\n",
    "losses = []\n",
    "test_losses = []\n",
    "accuracies = []\n",
    "test_x = []\n",
    "\n",
    "# -----------------------------------------------------------------\n",
    "# MAIN TRAINING LOOP\n",
    "# -----------------------------------------------------------------\n",
    "prog_bar = tqdm(range(NUM_EPOCHS))\n",
    "num_training_iterations = 0\n",
    "for epoch in range(NUM_EPOCHS):\n",
    "    # train one epoch\n",
    "    for _, (data, targets) in enumerate(iter(train_loader)):\n",
    "        data, targets = data.to(device), targets.to(device)\n",
    "        \n",
    "        prediction = model(data)\n",
    "        loss = criterion(prediction, targets)\n",
    "        losses.append(loss.item())\n",
    "        \n",
    "        optim.zero_grad()\n",
    "        loss.backward()\n",
    "        optim.step()\n",
    "        \n",
    "        num_training_iterations += 1\n",
    "    \n",
    "    # validation\n",
    "    test_loss = 0\n",
    "    test_predictions = []\n",
    "    true_labels = []\n",
    "    with torch.no_grad():\n",
    "        # iterate through test set\n",
    "        for _, (data, targets) in enumerate(iter(test_loader)):\n",
    "            data, targets = data.to(device), targets.to(device)\n",
    "            prediction = model(data)\n",
    "            test_loss += criterion(prediction, targets, reduction='sum')\n",
    "            test_predictions.append(prediction)\n",
    "            true_labels.append(targets)\n",
    "        # average test loss\n",
    "        test_loss /= len(test_loader.dataset)\n",
    "        test_losses.append(test_loss)\n",
    "        test_x.append(num_training_iterations)\n",
    "        \n",
    "        # compute accuracy\n",
    "        true_test_labels = torch.argmax(torch.cat(true_labels).detach().cpu(), dim=1)\n",
    "        all_predictions = torch.argmax(torch.cat(test_predictions).detach().cpu(), dim=1)\n",
    "        accuracy = torch.sum(torch.where(all_predictions - true_test_labels == 0, 1, 0)) / len(test_data) * 100\n",
    "        accuracies.append(accuracy)\n",
    "        \n",
    "    prog_bar.update(1)\n",
    "\n",
    "prog_bar.close()    \n",
    "\n",
    "# plot summary\n",
    "fig, ax = plt.subplots(1, 2, figsize=(10,4))\n",
    "\n",
    "fig.suptitle('Training Summary')\n",
    "ax[0].plot(np.log(losses), label='Training Loss')\n",
    "ax[0].plot(test_x, np.log(test_losses), label='Test Loss')\n",
    "ax[0].legend()\n",
    "ax[0].set_xlabel('Iterations')\n",
    "ax[0].set_ylabel('log loss')\n",
    "ax[0].set_title(f'Log loss over {NUM_EPOCHS} epochs')\n",
    "ax[1].plot(test_x, accuracies, label='Test Accuracy')\n",
    "ax[1].set_xlabel('Iterations')\n",
    "ax[1].set_ylabel('Accuracy %')\n",
    "ax[1].set_title(f'Final Accuracy: {accuracies[-1] :.2f}%')\n",
    "#ax[1].legend()\n",
    "plt.show()"
   ]
  },
  {
   "cell_type": "code",
   "execution_count": null,
   "id": "32095558b8a4c433",
   "metadata": {
    "ExecuteTime": {
     "end_time": "2024-03-07T12:21:28.017105Z",
     "start_time": "2024-03-07T12:21:27.998095Z"
    }
   },
   "outputs": [],
   "source": [
    "len(train_data) "
   ]
  },
  {
   "cell_type": "code",
   "execution_count": null,
   "id": "2fd42a3b6184fa05",
   "metadata": {
    "ExecuteTime": {
     "end_time": "2024-03-07T12:21:28.081411Z",
     "start_time": "2024-03-07T12:21:28.012212Z"
    }
   },
   "outputs": [],
   "source": [
    "len(test_data)"
   ]
  },
  {
   "cell_type": "code",
   "execution_count": null,
   "id": "3a7d8b12655ed4bd",
   "metadata": {
    "ExecuteTime": {
     "end_time": "2024-03-07T12:21:28.100855Z",
     "start_time": "2024-03-07T12:21:28.026782Z"
    }
   },
   "outputs": [],
   "source": [
    "all_train_data = []\n",
    "for _, (data, gt) in enumerate(iter(train_data)):\n",
    "    all_train_data.append(data)\n",
    "all_train_data = torch.stack(all_train_data)"
   ]
  },
  {
   "cell_type": "code",
   "execution_count": null,
   "id": "a563c061c7cd86bc",
   "metadata": {
    "ExecuteTime": {
     "end_time": "2024-03-07T12:21:28.101769Z",
     "start_time": "2024-03-07T12:21:28.070442Z"
    }
   },
   "outputs": [],
   "source": [
    "all_train_data.shape"
   ]
  },
  {
   "cell_type": "code",
   "execution_count": null,
   "id": "94c17730d235a92a",
   "metadata": {
    "ExecuteTime": {
     "end_time": "2024-03-07T12:21:29.313925Z",
     "start_time": "2024-03-07T12:21:28.075337Z"
    }
   },
   "outputs": [],
   "source": [
    "distances = []\n",
    "for _, (data, gt) in enumerate(iter(test_loader)):\n",
    "    for i in range(len(data)):\n",
    "        min_dist = torch.min(torch.sum((all_train_data - data[i])**2, dim=(1, 2)))\n",
    "        distances.append(min_dist)"
   ]
  },
  {
   "cell_type": "code",
   "execution_count": null,
   "id": "7501fd14bcb2fe87",
   "metadata": {
    "ExecuteTime": {
     "end_time": "2024-03-07T12:21:29.317669Z",
     "start_time": "2024-03-07T12:21:29.314268Z"
    }
   },
   "outputs": [],
   "source": [
    "len(distances)"
   ]
  },
  {
   "cell_type": "code",
   "execution_count": null,
   "id": "9d886b4b4141bc58",
   "metadata": {
    "ExecuteTime": {
     "end_time": "2024-03-07T12:21:29.323630Z",
     "start_time": "2024-03-07T12:21:29.317596Z"
    }
   },
   "outputs": [],
   "source": [
    "min(distances)"
   ]
  },
  {
   "cell_type": "code",
   "execution_count": null,
   "id": "bfc12915f05a8a12",
   "metadata": {
    "ExecuteTime": {
     "end_time": "2024-03-07T12:21:29.326741Z",
     "start_time": "2024-03-07T12:21:29.322947Z"
    }
   },
   "outputs": [],
   "source": [
    "print(model)"
   ]
  },
  {
   "cell_type": "code",
   "execution_count": null,
   "id": "f7b3045b6074dedc",
   "metadata": {
    "ExecuteTime": {
     "end_time": "2024-03-07T12:21:29.329763Z",
     "start_time": "2024-03-07T12:21:29.327843Z"
    }
   },
   "outputs": [],
   "source": []
  }
 ],
 "metadata": {
  "kernelspec": {
   "display_name": "Python 3",
   "language": "python",
   "name": "python3"
  },
  "language_info": {
   "codemirror_mode": {
    "name": "ipython",
    "version": 2
   },
   "file_extension": ".py",
   "mimetype": "text/x-python",
   "name": "python",
   "nbconvert_exporter": "python",
   "pygments_lexer": "ipython2",
   "version": "2.7.6"
  }
 },
 "nbformat": 4,
 "nbformat_minor": 5
}
