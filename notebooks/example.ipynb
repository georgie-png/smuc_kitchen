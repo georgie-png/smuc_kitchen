{
 "cells": [
  {
   "cell_type": "code",
   "execution_count": null,
   "id": "initial_id",
   "metadata": {
    "ExecuteTime": {
     "end_time": "2024-03-22T14:37:35.114602Z",
     "start_time": "2024-03-22T14:37:35.078445Z"
    }
   },
   "outputs": [],
   "source": [
    "import numpy as np\n",
    "import torch\n",
    "import json"
   ]
  },
  {
   "cell_type": "code",
   "execution_count": null,
   "id": "a3192be647b929a4",
   "metadata": {
    "ExecuteTime": {
     "end_time": "2024-03-22T14:37:35.116238Z",
     "start_time": "2024-03-22T14:37:35.113167Z"
    }
   },
   "outputs": [],
   "source": [
    "import train_evaluate"
   ]
  },
  {
   "cell_type": "code",
   "execution_count": null,
   "id": "eb663d92d8da5248",
   "metadata": {
    "ExecuteTime": {
     "end_time": "2024-03-22T14:37:35.129053Z",
     "start_time": "2024-03-22T14:37:35.119310Z"
    }
   },
   "outputs": [],
   "source": [
    "# fix random seeds\n",
    "SEED = 42\n",
    "torch.manual_seed(SEED)\n",
    "np.random.seed(SEED)\n",
    "\n",
    "# define path to dataset\n",
    "data_path = '../data/Full-Data-80-20-split-6000.json'\n",
    "\n",
    "# get device\n",
    "device = train_evaluate.get_device()"
   ]
  },
  {
   "cell_type": "code",
   "execution_count": null,
   "id": "569fa11090fec235",
   "metadata": {
    "ExecuteTime": {
     "end_time": "2024-03-22T14:37:51.194176Z",
     "start_time": "2024-03-22T14:37:35.126010Z"
    }
   },
   "outputs": [],
   "source": [
    "# define hyperparameters for training\n",
    "HIDDEN_LAYERS = 1\n",
    "HIDDEN_FEATURES = 512\n",
    "\n",
    "BATCH_SIZE = 512\n",
    "NUM_EPOCHS = 100\n",
    "LR = 0.0008\n",
    "\n",
    "# train model\n",
    "model, summary = train_evaluate.train_model(\n",
    "    data_path=data_path,\n",
    "    lr=LR,\n",
    "    batch_size=BATCH_SIZE,\n",
    "    num_epochs=NUM_EPOCHS,\n",
    "    hidden_layers=HIDDEN_LAYERS,\n",
    "    hidden_features=HIDDEN_FEATURES,\n",
    "    final_plot=True\n",
    ")\n",
    "\n",
    "# print summary\n",
    "train_evaluate.print_summary(summary)"
   ]
  },
  {
   "cell_type": "code",
   "execution_count": null,
   "id": "c77b91be594c6fc7",
   "metadata": {
    "ExecuteTime": {
     "end_time": "2024-03-22T14:37:51.205196Z",
     "start_time": "2024-03-22T14:37:51.200127Z"
    }
   },
   "outputs": [],
   "source": [
    "# save model\n",
    "model_path = '../trained_models/example_model'\n",
    "train_evaluate.save_model_summary(model, summary, path=model_path)"
   ]
  },
  {
   "cell_type": "markdown",
   "id": "b19aa6bfe2fc7370",
   "metadata": {
    "collapsed": false
   },
   "source": [
    "Second part: Load a trained model and use it to compute assignments.\n",
    "\n",
    "1. load model\n",
    "2. classify\n",
    "```\n",
    "trained_model, _ = train_evaluate.load_model_for_inference(PATH)\n",
    "assignment = train_evaluate.classify(trained_model, x, 'one_hot') \n",
    "```\n",
    "classify() works with lists, numpy arrays and torch tensors. Just make sure, the dimensions are correct. The most general input shape is [batch_size, num_kitchens + 1, num_items]. Specify the output format by passing for example 'one_hot' or 'label' to the classify method, see examples below. "
   ]
  },
  {
   "cell_type": "code",
   "execution_count": null,
   "id": "641fd93a1d9f44c8",
   "metadata": {
    "ExecuteTime": {
     "end_time": "2024-03-22T14:37:51.239214Z",
     "start_time": "2024-03-22T14:37:51.205710Z"
    }
   },
   "outputs": [],
   "source": [
    "# load trained model to perform inference\n",
    "trained_model, loaded_summary = train_evaluate.load_model_for_inference(model_path)\n",
    "\n",
    "# print training summary\n",
    "train_evaluate.print_summary(loaded_summary)\n",
    "\n",
    "# print model architecture\n",
    "print('Model architecture:')\n",
    "print(trained_model)"
   ]
  },
  {
   "cell_type": "code",
   "execution_count": null,
   "id": "e01d652a6842b9d6",
   "metadata": {
    "ExecuteTime": {
     "end_time": "2024-03-22T14:37:51.674333Z",
     "start_time": "2024-03-22T14:37:51.218218Z"
    }
   },
   "outputs": [],
   "source": [
    "# load full data from json file and convert to numpy arrays\n",
    "f = open(data_path)\n",
    "full_data = json.load(f)\n",
    "food_data = np.array(full_data['food_data_train'])  # [num_examples, num_kitchens + 1, num_items]\n",
    "true_assignments = np.array(full_data['kitchens_data_train'])  # [num_examples, num_kitchens]"
   ]
  },
  {
   "cell_type": "code",
   "execution_count": null,
   "id": "7babd06c264a17c2",
   "metadata": {
    "ExecuteTime": {
     "end_time": "2024-03-22T14:38:33.908422Z",
     "start_time": "2024-03-22T14:38:33.862502Z"
    }
   },
   "outputs": [],
   "source": [
    "# classify full dataset and compute accuracy\n",
    "pred = train_evaluate.classify(trained_model, food_data, 'label')\n",
    "accuracy = np.sum(np.where(pred - np.argmax(true_assignments, axis=1) == 0, 1, 0)) / len(food_data) * 100\n",
    "print(f'Accuracy over training dataset: {accuracy :.2f}%')"
   ]
  },
  {
   "cell_type": "code",
   "execution_count": null,
   "id": "d4ba088eb8fce40f",
   "metadata": {
    "ExecuteTime": {
     "end_time": "2024-03-22T14:37:51.721385Z",
     "start_time": "2024-03-22T14:37:51.715178Z"
    }
   },
   "outputs": [],
   "source": [
    "# generate a single test example with dimensions [num_kitchens + 1, num_items]\n",
    "num_kitchens = loaded_summary['num_kitchens']\n",
    "num_items = loaded_summary['num_items']\n",
    "\n",
    "# random kitchen inventory\n",
    "means = np.mean(food_data, axis=0)[:num_kitchens, :]\n",
    "stds = np.std(food_data, axis=0)[:num_kitchens, :]\n",
    "random_inventory = stds * np.random.randn(num_kitchens, num_items) + means\n",
    "\n",
    "# one hot item to distribute\n",
    "random_item_to_distribute = np.zeros(num_items)\n",
    "random_item_to_distribute[np.random.choice(num_items)] = 100\n",
    "\n",
    "# combine inventory and item to distribute\n",
    "test_input = np.vstack((random_inventory, random_item_to_distribute))\n",
    "print(f'Shape of test input: {test_input.shape}')"
   ]
  },
  {
   "cell_type": "code",
   "execution_count": null,
   "id": "dbfea51de8d3090d",
   "metadata": {
    "ExecuteTime": {
     "end_time": "2024-03-22T14:37:51.727611Z",
     "start_time": "2024-03-22T14:37:51.721171Z"
    }
   },
   "outputs": [],
   "source": [
    "# Compute assignments with different output encodings\n",
    "assignment_default = train_evaluate.classify(trained_model, test_input)\n",
    "print(f'Assignments with probabilities: {assignment_default}')\n",
    "\n",
    "assignment_one_hot = train_evaluate.classify(trained_model, test_input, 'one_hot')\n",
    "print(f'Assignments one hot encoded: {assignment_one_hot}')\n",
    "\n",
    "assignment_label = train_evaluate.classify(trained_model, test_input, 'label')\n",
    "print(f'Assignments with kitchen labels: {assignment_label}')"
   ]
  },
  {
   "cell_type": "code",
   "execution_count": null,
   "id": "11d4de95db26676d",
   "metadata": {
    "ExecuteTime": {
     "end_time": "2024-03-22T14:37:51.732385Z",
     "start_time": "2024-03-22T14:37:51.727011Z"
    }
   },
   "outputs": [],
   "source": []
  }
 ],
 "metadata": {
  "kernelspec": {
   "display_name": "Python 3",
   "language": "python",
   "name": "python3"
  },
  "language_info": {
   "codemirror_mode": {
    "name": "ipython",
    "version": 2
   },
   "file_extension": ".py",
   "mimetype": "text/x-python",
   "name": "python",
   "nbconvert_exporter": "python",
   "pygments_lexer": "ipython2",
   "version": "2.7.6"
  }
 },
 "nbformat": 4,
 "nbformat_minor": 5
}
